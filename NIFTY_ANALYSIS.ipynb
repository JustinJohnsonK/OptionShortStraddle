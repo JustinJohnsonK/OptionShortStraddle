{
  "nbformat": 4,
  "nbformat_minor": 0,
  "metadata": {
    "colab": {
      "name": "NIFTY_ANALYSIS.ipynb",
      "provenance": [],
      "collapsed_sections": [],
      "mount_file_id": "19fKD18CUyoAUWJIQhIlvfbsJAiMshe_R",
      "authorship_tag": "ABX9TyOIPqXG20mPVBAebrOxYV32",
      "include_colab_link": true
    },
    "kernelspec": {
      "name": "python3",
      "display_name": "Python 3"
    },
    "language_info": {
      "name": "python"
    }
  },
  "cells": [
    {
      "cell_type": "markdown",
      "metadata": {
        "id": "view-in-github",
        "colab_type": "text"
      },
      "source": [
        "<a href=\"https://colab.research.google.com/github/JustinJohnsonK/OptionShortStraddle/blob/main/NIFTY_ANALYSIS.ipynb\" target=\"_parent\"><img src=\"https://colab.research.google.com/assets/colab-badge.svg\" alt=\"Open In Colab\"/></a>"
      ]
    },
    {
      "cell_type": "markdown",
      "metadata": {
        "id": "2o3P1KvHaX6p"
      },
      "source": [
        "# **NIFTY DAY CHANGE ANALYSIS AND HOW TO PREDICT**\n",
        "\n",
        "Here I collected all the historic data for nifty from [NSE website](https://www1.nseindia.com/products/content/equities/indices/historical_index_data.htm)\n",
        "and calcuate the day change from opening and closing price.\n",
        "\n",
        "Next we collect all the Central Pivot Range values and match the values to the change in nifty daily.\n",
        "\n",
        "Hence we will be able to get a range for CPR which will help us to predict the market will be trending today or not.\n",
        "\n",
        "This help us create straddle for intradays and create more probability for the trades taken.\n",
        "\n",
        "\n"
      ]
    },
    {
      "cell_type": "code",
      "metadata": {
        "id": "1F0F5MNxT5xu"
      },
      "source": [
        "import pandas as pd\n",
        "import numpy as np\n",
        "import os\n",
        "import glob"
      ],
      "execution_count": 1,
      "outputs": []
    },
    {
      "cell_type": "markdown",
      "metadata": {
        "id": "ZJAoqu2xuIuY"
      },
      "source": [
        "# Pull data From NSE Site\n",
        "Here I had already stored it in my googledrive"
      ]
    },
    {
      "cell_type": "code",
      "metadata": {
        "id": "kG2aLue7UP2T"
      },
      "source": [
        "# Merge all files from Nifty historic data\n",
        "# Files are downloaded and stored in local drive.\n",
        "# Files are available from NSE website - details in discription\n",
        "path = '/content/drive/MyDrive/NiftyData'              # use your path\n",
        "all_files = glob.glob(os.path.join(path, \"*.csv\"))     # advisable to use os.path.join as this makes concatenation OS independent\n",
        "\n",
        "df_from_each_file = (pd.read_csv(f) for f in all_files)\n",
        "df = pd.concat(df_from_each_file, ignore_index=True)"
      ],
      "execution_count": 2,
      "outputs": []
    },
    {
      "cell_type": "code",
      "metadata": {
        "colab": {
          "base_uri": "https://localhost:8080/"
        },
        "id": "hvXgzBu2Ub1G",
        "outputId": "eb0e647c-2334-4def-d5e2-80eee9863ba5"
      },
      "source": [
        "len(df.index)"
      ],
      "execution_count": null,
      "outputs": [
        {
          "output_type": "execute_result",
          "data": {
            "text/plain": [
              "2718"
            ]
          },
          "metadata": {
            "tags": []
          },
          "execution_count": 4
        }
      ]
    },
    {
      "cell_type": "markdown",
      "metadata": {
        "id": "XzWY0z_ouefU"
      },
      "source": [
        "# Clean the data"
      ]
    },
    {
      "cell_type": "code",
      "metadata": {
        "id": "o_-Mh_Y6eM_z"
      },
      "source": [
        "# Sort the merged files based on date\n",
        "df['Date'] = pd.to_datetime(df.Date)\n",
        "df = df.sort_values(by=\"Date\")"
      ],
      "execution_count": 3,
      "outputs": []
    },
    {
      "cell_type": "code",
      "metadata": {
        "id": "GgmZnI53szyB"
      },
      "source": [
        "# Reset the index after sorting based on date\n",
        "# This is required for calculating the CPR for previous day\n",
        "df = df.reset_index(drop=True)"
      ],
      "execution_count": 4,
      "outputs": []
    },
    {
      "cell_type": "code",
      "metadata": {
        "id": "G1vtoM8RdZpq"
      },
      "source": [
        "# Test Code\n",
        "for index, row in df.iterrows():\n",
        "  if index > 2700:\n",
        "    print(index, row[\"Date\"])\n",
        "    dfObj = df.iloc[index-1, [2, 3,4]]\n",
        "    print(dfObj[\"Close\"])\n"
      ],
      "execution_count": null,
      "outputs": []
    },
    {
      "cell_type": "markdown",
      "metadata": {
        "id": "XWSIfDd-ulDx"
      },
      "source": [
        "# Calculations"
      ]
    },
    {
      "cell_type": "code",
      "metadata": {
        "id": "7hkLrayfU5l0"
      },
      "source": [
        "# Find Percentage chage in a day\n",
        "find_change = lambda v1, v2: (abs(v1-v2)*100)/(v1)"
      ],
      "execution_count": 6,
      "outputs": []
    },
    {
      "cell_type": "code",
      "metadata": {
        "id": "1LmGLJsTex-n"
      },
      "source": [
        "# Add the Percentage Change tab to dataframe\n",
        "df[\"Change\"] = [find_change(row[\"Open\"], row[\"Close\"]) for index, row in df.iterrows()]"
      ],
      "execution_count": 7,
      "outputs": []
    },
    {
      "cell_type": "code",
      "metadata": {
        "id": "aMU40qize0an"
      },
      "source": [
        "# Calculate CPR range or width - using previous day Low, High and Close \n",
        "def CPR_Range(index, dfObj):\n",
        "  if index == 0:\n",
        "    return 0\n",
        "\n",
        "  High, Low, Close = dfObj[\"High\"], dfObj[\"Low\"], dfObj[\"Close\"]\n",
        "  Pivot = (High + Low + Close)/3\n",
        "  Bottom_CPR = (High + Low)/2\n",
        "  Top_CPR = (Pivot - Bottom_CPR) + Pivot\n",
        "  return abs(Top_CPR - Bottom_CPR)"
      ],
      "execution_count": 17,
      "outputs": []
    },
    {
      "cell_type": "code",
      "metadata": {
        "id": "BLEMUbd6fldH"
      },
      "source": [
        "# Add the CPR to dataframe\n",
        "df[\"CPR_Width\"] = [CPR_Range(index, df.iloc[index-1, [2, 3,4]]) for index, _ in df.iterrows() if index<len(df.index)]"
      ],
      "execution_count": 18,
      "outputs": []
    },
    {
      "cell_type": "code",
      "metadata": {
        "colab": {
          "base_uri": "https://localhost:8080/",
          "height": 204
        },
        "id": "xbXBeqQbZH9j",
        "outputId": "58dbfa8c-ffcc-4440-f790-84c86f2ff716"
      },
      "source": [
        "df.head()"
      ],
      "execution_count": 19,
      "outputs": [
        {
          "output_type": "execute_result",
          "data": {
            "text/html": [
              "<div>\n",
              "<style scoped>\n",
              "    .dataframe tbody tr th:only-of-type {\n",
              "        vertical-align: middle;\n",
              "    }\n",
              "\n",
              "    .dataframe tbody tr th {\n",
              "        vertical-align: top;\n",
              "    }\n",
              "\n",
              "    .dataframe thead th {\n",
              "        text-align: right;\n",
              "    }\n",
              "</style>\n",
              "<table border=\"1\" class=\"dataframe\">\n",
              "  <thead>\n",
              "    <tr style=\"text-align: right;\">\n",
              "      <th></th>\n",
              "      <th>Date</th>\n",
              "      <th>Open</th>\n",
              "      <th>High</th>\n",
              "      <th>Low</th>\n",
              "      <th>Close</th>\n",
              "      <th>Shares Traded</th>\n",
              "      <th>Turnover (Rs. Cr)</th>\n",
              "      <th>Change</th>\n",
              "      <th>CPR_Width</th>\n",
              "    </tr>\n",
              "  </thead>\n",
              "  <tbody>\n",
              "    <tr>\n",
              "      <th>0</th>\n",
              "      <td>2010-06-28</td>\n",
              "      <td>5271.10</td>\n",
              "      <td>5339.45</td>\n",
              "      <td>5270.75</td>\n",
              "      <td>5333.50</td>\n",
              "      <td>154140414</td>\n",
              "      <td>6284.06</td>\n",
              "      <td>1.183814</td>\n",
              "      <td>0.000000</td>\n",
              "    </tr>\n",
              "    <tr>\n",
              "      <th>1</th>\n",
              "      <td>2010-06-29</td>\n",
              "      <td>5333.55</td>\n",
              "      <td>5334.15</td>\n",
              "      <td>5235.80</td>\n",
              "      <td>5256.15</td>\n",
              "      <td>158720263</td>\n",
              "      <td>5859.41</td>\n",
              "      <td>1.451191</td>\n",
              "      <td>18.933333</td>\n",
              "    </tr>\n",
              "    <tr>\n",
              "      <th>2</th>\n",
              "      <td>2010-06-30</td>\n",
              "      <td>5254.25</td>\n",
              "      <td>5320.35</td>\n",
              "      <td>5210.00</td>\n",
              "      <td>5312.50</td>\n",
              "      <td>183722824</td>\n",
              "      <td>7083.92</td>\n",
              "      <td>1.108626</td>\n",
              "      <td>19.216667</td>\n",
              "    </tr>\n",
              "    <tr>\n",
              "      <th>3</th>\n",
              "      <td>2010-07-01</td>\n",
              "      <td>5312.05</td>\n",
              "      <td>5312.55</td>\n",
              "      <td>5232.10</td>\n",
              "      <td>5251.40</td>\n",
              "      <td>141430947</td>\n",
              "      <td>5489.08</td>\n",
              "      <td>1.141744</td>\n",
              "      <td>31.550000</td>\n",
              "    </tr>\n",
              "    <tr>\n",
              "      <th>4</th>\n",
              "      <td>2010-07-02</td>\n",
              "      <td>5251.25</td>\n",
              "      <td>5277.25</td>\n",
              "      <td>5225.60</td>\n",
              "      <td>5237.10</td>\n",
              "      <td>149979351</td>\n",
              "      <td>5158.26</td>\n",
              "      <td>0.269460</td>\n",
              "      <td>13.950000</td>\n",
              "    </tr>\n",
              "  </tbody>\n",
              "</table>\n",
              "</div>"
            ],
            "text/plain": [
              "        Date     Open     High  ...  Turnover (Rs. Cr)    Change  CPR_Width\n",
              "0 2010-06-28  5271.10  5339.45  ...            6284.06  1.183814   0.000000\n",
              "1 2010-06-29  5333.55  5334.15  ...            5859.41  1.451191  18.933333\n",
              "2 2010-06-30  5254.25  5320.35  ...            7083.92  1.108626  19.216667\n",
              "3 2010-07-01  5312.05  5312.55  ...            5489.08  1.141744  31.550000\n",
              "4 2010-07-02  5251.25  5277.25  ...            5158.26  0.269460  13.950000\n",
              "\n",
              "[5 rows x 9 columns]"
            ]
          },
          "metadata": {
            "tags": []
          },
          "execution_count": 19
        }
      ]
    },
    {
      "cell_type": "code",
      "metadata": {
        "id": "ScbrSxWQZibj",
        "colab": {
          "base_uri": "https://localhost:8080/",
          "height": 282
        },
        "outputId": "d1b348ce-0fde-4ac0-cbd1-6fc378804969"
      },
      "source": [
        "# Plot the Day change histogram\n",
        "df[\"Change\"].plot(kind=\"hist\")"
      ],
      "execution_count": 20,
      "outputs": [
        {
          "output_type": "execute_result",
          "data": {
            "text/plain": [
              "<matplotlib.axes._subplots.AxesSubplot at 0x7fddedf4ffd0>"
            ]
          },
          "metadata": {
            "tags": []
          },
          "execution_count": 20
        },
        {
          "output_type": "display_data",
          "data": {
            "image/png": "[encoded data removed]",
            "text/plain": [
              "<Figure size 432x288 with 1 Axes>"
            ]
          },
          "metadata": {
            "tags": [],
            "needs_background": "light"
          }
        }
      ]
    },
    {
      "cell_type": "code",
      "metadata": {
        "id": "4_stl-wugsZ9",
        "colab": {
          "base_uri": "https://localhost:8080/",
          "height": 296
        },
        "outputId": "4e45cdb2-1b3b-48a0-91f3-ae57d35325d1"
      },
      "source": [
        "# Plot the relation between CPR and Nifty range\n",
        "df.plot(x='Change', y='CPR_Width', style='o')"
      ],
      "execution_count": 21,
      "outputs": [
        {
          "output_type": "execute_result",
          "data": {
            "text/plain": [
              "<matplotlib.axes._subplots.AxesSubplot at 0x7fdded70e650>"
            ]
          },
          "metadata": {
            "tags": []
          },
          "execution_count": 21
        },
        {
          "output_type": "display_data",
          "data": {
            "image/png": "[encoded data removed]",
            "text/plain": [
              "<Figure size 432x288 with 1 Axes>"
            ]
          },
          "metadata": {
            "tags": [],
            "needs_background": "light"
          }
        }
      ]
    }
  ]
}