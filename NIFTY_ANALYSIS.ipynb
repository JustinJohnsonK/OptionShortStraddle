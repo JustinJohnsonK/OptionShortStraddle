{
  "nbformat": 4,
  "nbformat_minor": 0,
  "metadata": {
    "colab": {
      "name": "NIFTY_ANALYSIS.ipynb",
      "provenance": [],
      "collapsed_sections": [],
      "mount_file_id": "19fKD18CUyoAUWJIQhIlvfbsJAiMshe_R",
      "authorship_tag": "ABX9TyMZiOSzt4/TjBXlFREL7y/k",
      "include_colab_link": true
    },
    "kernelspec": {
      "name": "python3",
      "display_name": "Python 3"
    },
    "language_info": {
      "name": "python"
    }
  },
  "cells": [
    {
      "cell_type": "markdown",
      "metadata": {
        "id": "view-in-github",
        "colab_type": "text"
      },
      "source": [
        "<a href=\"https://colab.research.google.com/github/JustinJohnsonK/OptionShortStraddle/blob/main/NIFTY_ANALYSIS.ipynb\" target=\"_parent\"><img src=\"https://colab.research.google.com/assets/colab-badge.svg\" alt=\"Open In Colab\"/></a>"
      ]
    },
    {
      "cell_type": "markdown",
      "metadata": {
        "id": "2o3P1KvHaX6p"
      },
      "source": [
        "# **NIFTY DAY CHANGE ANALYSIS AND HOW TO PREDICT**\n",
        "\n",
        "Here I collected all the historic data for nifty from [NSE website](https://www1.nseindia.com/products/content/equities/indices/historical_index_data.htm)\n",
        "and calcuate the day change from opening and closing price.\n",
        "\n",
        "Next we collect all the Central Pivot Range values and match the values to the change in nifty daily.\n",
        "\n",
        "Hence we will be able to get a range for CPR which will help us to predict the market will be trending today or not.\n",
        "\n",
        "This help us create straddle for intradays and create more probability for the trades taken.\n",
        "\n",
        "\n"
      ]
    },
    {
      "cell_type": "code",
      "metadata": {
        "id": "1F0F5MNxT5xu"
      },
      "source": [
        "import pandas as pd\n",
        "import numpy as np\n",
        "import os\n",
        "import glob"
      ],
      "execution_count": 2,
      "outputs": []
    },
    {
      "cell_type": "code",
      "metadata": {
        "id": "kG2aLue7UP2T"
      },
      "source": [
        "# Merge all files from Nifty historic data\n",
        "path = '/content/drive/MyDrive/NiftyData'              # use your path\n",
        "all_files = glob.glob(os.path.join(path, \"*.csv\"))     # advisable to use os.path.join as this makes concatenation OS independent\n",
        "\n",
        "df_from_each_file = (pd.read_csv(f) for f in all_files)\n",
        "df = pd.concat(df_from_each_file, ignore_index=True)"
      ],
      "execution_count": 3,
      "outputs": []
    },
    {
      "cell_type": "code",
      "metadata": {
        "colab": {
          "base_uri": "https://localhost:8080/"
        },
        "id": "hvXgzBu2Ub1G",
        "outputId": "eb0e647c-2334-4def-d5e2-80eee9863ba5"
      },
      "source": [
        "len(df.index)"
      ],
      "execution_count": 4,
      "outputs": [
        {
          "output_type": "execute_result",
          "data": {
            "text/plain": [
              "2718"
            ]
          },
          "metadata": {
            "tags": []
          },
          "execution_count": 4
        }
      ]
    },
    {
      "cell_type": "code",
      "metadata": {
        "id": "7hkLrayfU5l0"
      },
      "source": [
        "# Find Percentage chage in a day\n",
        "find_change = lambda v1, v2: (abs(v1-v2)*100)/(v1)"
      ],
      "execution_count": 5,
      "outputs": []
    },
    {
      "cell_type": "code",
      "metadata": {
        "id": "aMU40qize0an"
      },
      "source": [
        "# Calculate CPR range or width - using previous day Low, High and Close \n",
        "def CPR_Range(Low, High, Close):\n",
        "  Pivot = (High + Low + Close)/3\n",
        "  Bottom_CPR = (High + Low)/2\n",
        "  Top_CPR = (Pivot - Bottom_CPR) + Pivot\n",
        "  return abs(Top_CPR - Bottom_CPR)"
      ],
      "execution_count": 6,
      "outputs": []
    },
    {
      "cell_type": "code",
      "metadata": {
        "id": "1LmGLJsTex-n"
      },
      "source": [
        "df[\"Change\"] = [find_change(row[\"Open\"], row[\"Close\"]) for index, row in df.iterrows()]"
      ],
      "execution_count": 7,
      "outputs": []
    },
    {
      "cell_type": "code",
      "metadata": {
        "id": "o_-Mh_Y6eM_z"
      },
      "source": [
        "# Sort the merged files based on date\n",
        "df['Date'] =pd.to_datetime(df.Date)\n",
        "df = df.sort_values(by=\"Date\")"
      ],
      "execution_count": 16,
      "outputs": []
    },
    {
      "cell_type": "code",
      "metadata": {
        "colab": {
          "base_uri": "https://localhost:8080/"
        },
        "id": "G1vtoM8RdZpq",
        "outputId": "dd1491db-d504-4f21-968a-d3f1432bee94"
      },
      "source": [
        "df[\"Date\"]"
      ],
      "execution_count": 20,
      "outputs": [
        {
          "output_type": "execute_result",
          "data": {
            "text/plain": [
              "2466   2010-06-28\n",
              "2467   2010-06-29\n",
              "2468   2010-06-30\n",
              "2469   2010-07-01\n",
              "2470   2010-07-02\n",
              "          ...    \n",
              "244    2021-06-04\n",
              "245    2021-06-07\n",
              "246    2021-06-08\n",
              "247    2021-06-09\n",
              "248    2021-06-10\n",
              "Name: Date, Length: 2718, dtype: datetime64[ns]"
            ]
          },
          "metadata": {
            "tags": []
          },
          "execution_count": 20
        }
      ]
    },
    {
      "cell_type": "code",
      "metadata": {
        "id": "BLEMUbd6fldH"
      },
      "source": [
        "df[\"CPR_Width\"] = [CPR_Range(row[\"Low\"], row[\"High\"], row[\"Close\"]) for index, _ in df.iterrows() if index>0]"
      ],
      "execution_count": null,
      "outputs": []
    },
    {
      "cell_type": "code",
      "metadata": {
        "colab": {
          "base_uri": "https://localhost:8080/",
          "height": 204
        },
        "id": "xbXBeqQbZH9j",
        "outputId": "fb88bf06-7c94-4f45-a082-0e6548047b51"
      },
      "source": [
        "df.head()"
      ],
      "execution_count": 12,
      "outputs": [
        {
          "output_type": "execute_result",
          "data": {
            "text/html": [
              "<div>\n",
              "<style scoped>\n",
              "    .dataframe tbody tr th:only-of-type {\n",
              "        vertical-align: middle;\n",
              "    }\n",
              "\n",
              "    .dataframe tbody tr th {\n",
              "        vertical-align: top;\n",
              "    }\n",
              "\n",
              "    .dataframe thead th {\n",
              "        text-align: right;\n",
              "    }\n",
              "</style>\n",
              "<table border=\"1\" class=\"dataframe\">\n",
              "  <thead>\n",
              "    <tr style=\"text-align: right;\">\n",
              "      <th></th>\n",
              "      <th>Date</th>\n",
              "      <th>Open</th>\n",
              "      <th>High</th>\n",
              "      <th>Low</th>\n",
              "      <th>Close</th>\n",
              "      <th>Shares Traded</th>\n",
              "      <th>Turnover (Rs. Cr)</th>\n",
              "      <th>Change</th>\n",
              "    </tr>\n",
              "  </thead>\n",
              "  <tbody>\n",
              "    <tr>\n",
              "      <th>0</th>\n",
              "      <td>15-Jun-2020</td>\n",
              "      <td>9919.35</td>\n",
              "      <td>9943.35</td>\n",
              "      <td>9726.35</td>\n",
              "      <td>9813.70</td>\n",
              "      <td>716053036</td>\n",
              "      <td>31926.65</td>\n",
              "      <td>1.065090</td>\n",
              "    </tr>\n",
              "    <tr>\n",
              "      <th>1</th>\n",
              "      <td>16-Jun-2020</td>\n",
              "      <td>10014.80</td>\n",
              "      <td>10046.15</td>\n",
              "      <td>9728.50</td>\n",
              "      <td>9914.00</td>\n",
              "      <td>899895044</td>\n",
              "      <td>36257.89</td>\n",
              "      <td>1.006510</td>\n",
              "    </tr>\n",
              "    <tr>\n",
              "      <th>2</th>\n",
              "      <td>17-Jun-2020</td>\n",
              "      <td>9876.70</td>\n",
              "      <td>10003.60</td>\n",
              "      <td>9833.80</td>\n",
              "      <td>9881.15</td>\n",
              "      <td>685418390</td>\n",
              "      <td>30700.69</td>\n",
              "      <td>0.045056</td>\n",
              "    </tr>\n",
              "    <tr>\n",
              "      <th>3</th>\n",
              "      <td>18-Jun-2020</td>\n",
              "      <td>9863.25</td>\n",
              "      <td>10111.20</td>\n",
              "      <td>9845.05</td>\n",
              "      <td>10091.65</td>\n",
              "      <td>622895963</td>\n",
              "      <td>28594.32</td>\n",
              "      <td>2.315667</td>\n",
              "    </tr>\n",
              "    <tr>\n",
              "      <th>4</th>\n",
              "      <td>19-Jun-2020</td>\n",
              "      <td>10119.00</td>\n",
              "      <td>10272.40</td>\n",
              "      <td>10072.65</td>\n",
              "      <td>10244.40</td>\n",
              "      <td>892096343</td>\n",
              "      <td>48103.56</td>\n",
              "      <td>1.239253</td>\n",
              "    </tr>\n",
              "  </tbody>\n",
              "</table>\n",
              "</div>"
            ],
            "text/plain": [
              "          Date      Open      High  ...  Shares Traded  Turnover (Rs. Cr)    Change\n",
              "0  15-Jun-2020   9919.35   9943.35  ...      716053036           31926.65  1.065090\n",
              "1  16-Jun-2020  10014.80  10046.15  ...      899895044           36257.89  1.006510\n",
              "2  17-Jun-2020   9876.70  10003.60  ...      685418390           30700.69  0.045056\n",
              "3  18-Jun-2020   9863.25  10111.20  ...      622895963           28594.32  2.315667\n",
              "4  19-Jun-2020  10119.00  10272.40  ...      892096343           48103.56  1.239253\n",
              "\n",
              "[5 rows x 8 columns]"
            ]
          },
          "metadata": {
            "tags": []
          },
          "execution_count": 12
        }
      ]
    },
    {
      "cell_type": "code",
      "metadata": {
        "id": "ScbrSxWQZibj"
      },
      "source": [
        "# Plot the Day change histogram\n",
        "df[\"Change\"].plot(kind=\"hist\")"
      ],
      "execution_count": null,
      "outputs": []
    },
    {
      "cell_type": "code",
      "metadata": {
        "id": "4_stl-wugsZ9"
      },
      "source": [
        "# Plot the relation between CPR and Nifty range\n",
        "df.plot(x='Change', y='CPR_Width', style='o')"
      ],
      "execution_count": null,
      "outputs": []
    }
  ]
}